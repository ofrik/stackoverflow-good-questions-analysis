{
 "cells": [
  {
   "cell_type": "code",
   "execution_count": 1,
   "metadata": {
    "collapsed": true
   },
   "outputs": [],
   "source": [
    "import pandas as pd\n",
    "import numpy as np\n",
    "import datetime\n",
    "import re\n",
    "import glob\n",
    "import xml.etree.ElementTree as ET\n",
    "import matplotlib.pyplot as plt\n",
    "%matplotlib inline\n",
    "import seaborn as sns\n",
    "import re\n",
    "from tqdm import tqdm"
   ]
  },
  {
   "cell_type": "markdown",
   "metadata": {},
   "source": [
    "## Utils"
   ]
  },
  {
   "cell_type": "code",
   "execution_count": 2,
   "metadata": {
    "collapsed": true
   },
   "outputs": [],
   "source": [
    "def cleanhtml(raw_html):\n",
    "    \"\"\"\n",
    "    this function gets an html text and removes all the garbage marks\n",
    "    \"\"\"\n",
    "    cleanr = re.compile('<.*?>')\n",
    "    cleantext = re.sub(cleanr, '', raw_html)\n",
    "    cleantext = cleantext.replace('\\n',' ')\n",
    "    return cleantext\n",
    "\n",
    "def clean_dataframe(df,int_columns,datetime_columns,text_columns):\n",
    "    \"\"\"\n",
    "    This function gets a dataframe as an input and does the following transformations:\n",
    "    1. type conversion - integers and datetime.\n",
    "    2. clean html tags from text\n",
    "    Important note: Unknown dates are converted to 1/1/1900\n",
    "    \"\"\"\n",
    "    for col in int_columns:\n",
    "        df[col]=df[col].fillna(0).astype(int)\n",
    "    for col in datetime_columns:\n",
    "        df[col]=[datetime.datetime.strptime(str(x),\"%Y-%m-%dT%H:%M:%S.%f\") if len(str(x))>4 else datetime.datetime(1900,1,1) for x in df[col]]\n",
    "    for col in text_columns:\n",
    "        df[col]=[cleanhtml(text) for text in df[col]]\n",
    "    return df\n",
    "def get_post_label(post_id,parent_id,accepted_answer_ids):\n",
    "    if post_id in accepted_answer_ids:\n",
    "        return 'Accepted answer'\n",
    "    elif parent_id > 0:\n",
    "        return 'Answer'\n",
    "    else:\n",
    "        return 'Question'"
   ]
  },
  {
   "cell_type": "markdown",
   "metadata": {},
   "source": [
    "## Read and clean posts data"
   ]
  },
  {
   "cell_type": "code",
   "execution_count": 3,
   "metadata": {},
   "outputs": [
    {
     "data": {
      "text/html": [
       "<div>\n",
       "<style>\n",
       "    .dataframe thead tr:only-child th {\n",
       "        text-align: right;\n",
       "    }\n",
       "\n",
       "    .dataframe thead th {\n",
       "        text-align: left;\n",
       "    }\n",
       "\n",
       "    .dataframe tbody tr th {\n",
       "        vertical-align: top;\n",
       "    }\n",
       "</style>\n",
       "<table border=\"1\" class=\"dataframe\">\n",
       "  <thead>\n",
       "    <tr style=\"text-align: right;\">\n",
       "      <th></th>\n",
       "      <th>AcceptedAnswerId</th>\n",
       "      <th>AnswerCount</th>\n",
       "      <th>Body</th>\n",
       "      <th>ClosedDate</th>\n",
       "      <th>CommentCount</th>\n",
       "      <th>CommunityOwnedDate</th>\n",
       "      <th>CreationDate</th>\n",
       "      <th>FavoriteCount</th>\n",
       "      <th>Id</th>\n",
       "      <th>LastActivityDate</th>\n",
       "      <th>...</th>\n",
       "      <th>LastEditorDisplayName</th>\n",
       "      <th>LastEditorUserId</th>\n",
       "      <th>OwnerDisplayName</th>\n",
       "      <th>OwnerUserId</th>\n",
       "      <th>ParentId</th>\n",
       "      <th>PostTypeId</th>\n",
       "      <th>Score</th>\n",
       "      <th>Tags</th>\n",
       "      <th>Title</th>\n",
       "      <th>ViewCount</th>\n",
       "    </tr>\n",
       "  </thead>\n",
       "  <tbody>\n",
       "    <tr>\n",
       "      <th>0</th>\n",
       "      <td>0</td>\n",
       "      <td>1</td>\n",
       "      <td>I've always been interested in machine learnin...</td>\n",
       "      <td>2014-05-14 14:40:25.950</td>\n",
       "      <td>1</td>\n",
       "      <td>1900-01-01</td>\n",
       "      <td>2014-05-13 23:58:30.457</td>\n",
       "      <td>1</td>\n",
       "      <td>5</td>\n",
       "      <td>2014-05-14 00:36:31.077</td>\n",
       "      <td>...</td>\n",
       "      <td>NaN</td>\n",
       "      <td>0</td>\n",
       "      <td>NaN</td>\n",
       "      <td>5</td>\n",
       "      <td>0</td>\n",
       "      <td>1</td>\n",
       "      <td>8</td>\n",
       "      <td>&lt;machine-learning&gt;</td>\n",
       "      <td>How can I do simple machine learning without h...</td>\n",
       "      <td>412</td>\n",
       "    </tr>\n",
       "    <tr>\n",
       "      <th>1</th>\n",
       "      <td>10</td>\n",
       "      <td>3</td>\n",
       "      <td>As a researcher and instructor, I'm looking fo...</td>\n",
       "      <td>2014-05-14 08:40:54.950</td>\n",
       "      <td>4</td>\n",
       "      <td>1900-01-01</td>\n",
       "      <td>2014-05-14 00:11:06.457</td>\n",
       "      <td>1</td>\n",
       "      <td>7</td>\n",
       "      <td>2014-05-16 13:45:00.237</td>\n",
       "      <td>...</td>\n",
       "      <td>NaN</td>\n",
       "      <td>97</td>\n",
       "      <td>NaN</td>\n",
       "      <td>36</td>\n",
       "      <td>0</td>\n",
       "      <td>1</td>\n",
       "      <td>4</td>\n",
       "      <td>&lt;education&gt;&lt;open-source&gt;</td>\n",
       "      <td>What open-source books (or other materials) pr...</td>\n",
       "      <td>363</td>\n",
       "    </tr>\n",
       "    <tr>\n",
       "      <th>2</th>\n",
       "      <td>0</td>\n",
       "      <td>0</td>\n",
       "      <td>Not sure if this fits the scope of this SE, bu...</td>\n",
       "      <td>1900-01-01 00:00:00.000</td>\n",
       "      <td>0</td>\n",
       "      <td>1900-01-01</td>\n",
       "      <td>2014-05-14 00:36:31.077</td>\n",
       "      <td>0</td>\n",
       "      <td>9</td>\n",
       "      <td>2014-05-14 00:36:31.077</td>\n",
       "      <td>...</td>\n",
       "      <td>NaN</td>\n",
       "      <td>0</td>\n",
       "      <td>NaN</td>\n",
       "      <td>51</td>\n",
       "      <td>5</td>\n",
       "      <td>2</td>\n",
       "      <td>5</td>\n",
       "      <td>NaN</td>\n",
       "      <td>NaN</td>\n",
       "      <td>0</td>\n",
       "    </tr>\n",
       "    <tr>\n",
       "      <th>3</th>\n",
       "      <td>0</td>\n",
       "      <td>0</td>\n",
       "      <td>One book that's freely available is \"The Eleme...</td>\n",
       "      <td>1900-01-01 00:00:00.000</td>\n",
       "      <td>1</td>\n",
       "      <td>1900-01-01</td>\n",
       "      <td>2014-05-14 00:53:43.273</td>\n",
       "      <td>0</td>\n",
       "      <td>10</td>\n",
       "      <td>2014-05-14 00:53:43.273</td>\n",
       "      <td>...</td>\n",
       "      <td>NaN</td>\n",
       "      <td>0</td>\n",
       "      <td>NaN</td>\n",
       "      <td>22</td>\n",
       "      <td>7</td>\n",
       "      <td>2</td>\n",
       "      <td>12</td>\n",
       "      <td>NaN</td>\n",
       "      <td>NaN</td>\n",
       "      <td>0</td>\n",
       "    </tr>\n",
       "    <tr>\n",
       "      <th>4</th>\n",
       "      <td>29</td>\n",
       "      <td>4</td>\n",
       "      <td>I am sure data science as will be discussed in...</td>\n",
       "      <td>1900-01-01 00:00:00.000</td>\n",
       "      <td>1</td>\n",
       "      <td>1900-01-01</td>\n",
       "      <td>2014-05-14 01:25:59.677</td>\n",
       "      <td>4</td>\n",
       "      <td>14</td>\n",
       "      <td>2014-06-20 17:36:05.023</td>\n",
       "      <td>...</td>\n",
       "      <td>NaN</td>\n",
       "      <td>322</td>\n",
       "      <td>NaN</td>\n",
       "      <td>66</td>\n",
       "      <td>0</td>\n",
       "      <td>1</td>\n",
       "      <td>19</td>\n",
       "      <td>&lt;data-mining&gt;&lt;definitions&gt;</td>\n",
       "      <td>Is Data Science the Same as Data Mining?</td>\n",
       "      <td>999</td>\n",
       "    </tr>\n",
       "  </tbody>\n",
       "</table>\n",
       "<p>5 rows × 21 columns</p>\n",
       "</div>"
      ],
      "text/plain": [
       "   AcceptedAnswerId  AnswerCount  \\\n",
       "0                 0            1   \n",
       "1                10            3   \n",
       "2                 0            0   \n",
       "3                 0            0   \n",
       "4                29            4   \n",
       "\n",
       "                                                Body              ClosedDate  \\\n",
       "0  I've always been interested in machine learnin... 2014-05-14 14:40:25.950   \n",
       "1  As a researcher and instructor, I'm looking fo... 2014-05-14 08:40:54.950   \n",
       "2  Not sure if this fits the scope of this SE, bu... 1900-01-01 00:00:00.000   \n",
       "3  One book that's freely available is \"The Eleme... 1900-01-01 00:00:00.000   \n",
       "4  I am sure data science as will be discussed in... 1900-01-01 00:00:00.000   \n",
       "\n",
       "   CommentCount CommunityOwnedDate            CreationDate  FavoriteCount  Id  \\\n",
       "0             1         1900-01-01 2014-05-13 23:58:30.457              1   5   \n",
       "1             4         1900-01-01 2014-05-14 00:11:06.457              1   7   \n",
       "2             0         1900-01-01 2014-05-14 00:36:31.077              0   9   \n",
       "3             1         1900-01-01 2014-05-14 00:53:43.273              0  10   \n",
       "4             1         1900-01-01 2014-05-14 01:25:59.677              4  14   \n",
       "\n",
       "         LastActivityDate    ...    LastEditorDisplayName LastEditorUserId  \\\n",
       "0 2014-05-14 00:36:31.077    ...                      NaN                0   \n",
       "1 2014-05-16 13:45:00.237    ...                      NaN               97   \n",
       "2 2014-05-14 00:36:31.077    ...                      NaN                0   \n",
       "3 2014-05-14 00:53:43.273    ...                      NaN                0   \n",
       "4 2014-06-20 17:36:05.023    ...                      NaN              322   \n",
       "\n",
       "   OwnerDisplayName OwnerUserId  ParentId  PostTypeId  Score  \\\n",
       "0               NaN           5         0           1      8   \n",
       "1               NaN          36         0           1      4   \n",
       "2               NaN          51         5           2      5   \n",
       "3               NaN          22         7           2     12   \n",
       "4               NaN          66         0           1     19   \n",
       "\n",
       "                         Tags  \\\n",
       "0          <machine-learning>   \n",
       "1    <education><open-source>   \n",
       "2                         NaN   \n",
       "3                         NaN   \n",
       "4  <data-mining><definitions>   \n",
       "\n",
       "                                               Title ViewCount  \n",
       "0  How can I do simple machine learning without h...       412  \n",
       "1  What open-source books (or other materials) pr...       363  \n",
       "2                                                NaN         0  \n",
       "3                                                NaN         0  \n",
       "4           Is Data Science the Same as Data Mining?       999  \n",
       "\n",
       "[5 rows x 21 columns]"
      ]
     },
     "execution_count": 3,
     "metadata": {},
     "output_type": "execute_result"
    }
   ],
   "source": [
    "tree = ET.parse('data/Posts.xml')\n",
    "root = tree.getroot()\n",
    "posts_df = pd.DataFrame([x.attrib for x in root.getchildren()])\n",
    "posts_df.columns\n",
    "\n",
    "int_columns = int_columns=['AcceptedAnswerId','AnswerCount','CommentCount','FavoriteCount','Id','LastEditorUserId',\n",
    "             'OwnerUserId','ParentId','PostTypeId','Score','ViewCount']\n",
    "datetime_columns = ['ClosedDate','CommunityOwnedDate','CreationDate','LastActivityDate','LastEditDate']\n",
    "text_columns=['Body']\n",
    "\n",
    "\n",
    "posts_df = clean_dataframe(posts_df,int_columns,datetime_columns,text_columns)\n",
    "posts_df.head()"
   ]
  },
  {
   "cell_type": "markdown",
   "metadata": {},
   "source": [
    "## Assign labels\n",
    "* If we want to add categories like 'high ranked'\\'low ranked' we can just edit the get_label function"
   ]
  },
  {
   "cell_type": "code",
   "execution_count": 4,
   "metadata": {},
   "outputs": [
    {
     "data": {
      "text/plain": [
       "Question           8884\n",
       "Answer             7323\n",
       "Accepted answer    3006\n",
       "Name: post_label, dtype: int64"
      ]
     },
     "execution_count": 4,
     "metadata": {},
     "output_type": "execute_result"
    }
   ],
   "source": [
    "accepted_answer_ids = list(set(posts_df['AcceptedAnswerId']))\n",
    "posts_df['post_label'] = [get_post_label(post_id,parent_id,accepted_answer_ids) for post_id,parent_id in zip(posts_df['Id'],posts_df['ParentId'])]\n",
    "posts_df['post_label'].value_counts()"
   ]
  },
  {
   "cell_type": "markdown",
   "metadata": {},
   "source": [
    "## Read and clean comments data\n",
    "*Not sure if we need the comments. Read this data anyway"
   ]
  },
  {
   "cell_type": "code",
   "execution_count": 5,
   "metadata": {
    "collapsed": true
   },
   "outputs": [],
   "source": [
    "tree = ET.parse('data/Comments.xml')\n",
    "root = tree.getroot()\n",
    "comments_df=pd.DataFrame([x.attrib for x in root.getchildren()])\n",
    "comments_df.columns\n",
    "\n",
    "int_columns = ['Id','PostId','Score','UserId']\n",
    "datetime_columns = ['CreationDate']\n",
    "text_columns = ['Text']\n",
    "\n",
    "comments_df = clean_dataframe(comments_df,int_columns,datetime_columns,text_columns)"
   ]
  },
  {
   "cell_type": "code",
   "execution_count": 8,
   "metadata": {
    "collapsed": true
   },
   "outputs": [],
   "source": [
    "def show_distribution(df):\n",
    "    n, bins, patches = plt.hist(df)\n",
    "    plt.show()"
   ]
  },
  {
   "cell_type": "markdown",
   "metadata": {},
   "source": [
    "## Questions score distribution"
   ]
  },
  {
   "cell_type": "code",
   "execution_count": 12,
   "metadata": {
    "collapsed": true
   },
   "outputs": [],
   "source": [
    "questions_scores = posts_df[posts_df[\"post_label\"]==\"Question\"][\"Score\"]"
   ]
  },
  {
   "cell_type": "code",
   "execution_count": 13,
   "metadata": {},
   "outputs": [
    {
     "data": {
      "image/png": "[encoded data removed]",
      "text/plain": [
       "<matplotlib.figure.Figure at 0x2377ae2fc88>"
      ]
     },
     "metadata": {},
     "output_type": "display_data"
    }
   ],
   "source": [
    "show_distribution(questions_scores)"
   ]
  },
  {
   "cell_type": "code",
   "execution_count": 18,
   "metadata": {},
   "outputs": [
    {
     "data": {
      "text/plain": [
       "5.0"
      ]
     },
     "execution_count": 18,
     "metadata": {},
     "output_type": "execute_result"
    }
   ],
   "source": [
    "high_ranked_question_threshold = np.percentile(questions_scores, 90)\n",
    "high_ranked_question_threshold"
   ]
  },
  {
   "cell_type": "code",
   "execution_count": 19,
   "metadata": {},
   "outputs": [
    {
     "data": {
      "text/plain": [
       "0.0"
      ]
     },
     "execution_count": 19,
     "metadata": {},
     "output_type": "execute_result"
    }
   ],
   "source": [
    "low_ranked_question_threshold = 0.0\n",
    "low_ranked_question_threshold"
   ]
  },
  {
   "cell_type": "markdown",
   "metadata": {},
   "source": [
    "## Answers score distribution"
   ]
  },
  {
   "cell_type": "code",
   "execution_count": 20,
   "metadata": {
    "collapsed": true
   },
   "outputs": [],
   "source": [
    "answers_scores = posts_df[(posts_df[\"post_label\"]==\"Answer\")|(posts_df[\"post_label\"]==\"Accepted answer\")][\"Score\"]"
   ]
  },
  {
   "cell_type": "code",
   "execution_count": 23,
   "metadata": {},
   "outputs": [
    {
     "data": {
      "image/png": "[encoded data removed]",
      "text/plain": [
       "<matplotlib.figure.Figure at 0x23779875080>"
      ]
     },
     "metadata": {},
     "output_type": "display_data"
    }
   ],
   "source": [
    "show_distribution(answers_scores)"
   ]
  },
  {
   "cell_type": "code",
   "execution_count": 24,
   "metadata": {},
   "outputs": [
    {
     "data": {
      "text/plain": [
       "5.0"
      ]
     },
     "execution_count": 24,
     "metadata": {},
     "output_type": "execute_result"
    }
   ],
   "source": [
    "high_ranked_answers_threshold = np.percentile(questions_scores, 90)\n",
    "high_ranked_answers_threshold"
   ]
  },
  {
   "cell_type": "code",
   "execution_count": 26,
   "metadata": {},
   "outputs": [
    {
     "data": {
      "text/plain": [
       "0.0"
      ]
     },
     "execution_count": 26,
     "metadata": {},
     "output_type": "execute_result"
    }
   ],
   "source": [
    "low_ranked_answers_threshold = 0.0\n",
    "low_ranked_answers_threshold"
   ]
  },
  {
   "cell_type": "markdown",
   "metadata": {},
   "source": [
    "## Label the posts rank"
   ]
  },
  {
   "cell_type": "code",
   "execution_count": 27,
   "metadata": {
    "collapsed": true
   },
   "outputs": [],
   "source": [
    "def get_post_rank(post_label,post_score):\n",
    "    if post_label==\"Question\":\n",
    "        if post_score>=high_ranked_question_threshold:\n",
    "            return \"High\"\n",
    "        elif post_score<=low_ranked_question_threshold:\n",
    "            return \"Low\"\n",
    "        else:\n",
    "            return \"Normal\"\n",
    "    else:\n",
    "        if post_score>=high_ranked_answers_threshold:\n",
    "            return \"High\"\n",
    "        elif post_score<=low_ranked_answers_threshold:\n",
    "            return \"Low\"\n",
    "        else:\n",
    "            return \"Normal\""
   ]
  },
  {
   "cell_type": "code",
   "execution_count": 29,
   "metadata": {},
   "outputs": [
    {
     "data": {
      "text/plain": [
       "Normal    11510\n",
       "Low        5435\n",
       "High       2268\n",
       "Name: post_rank, dtype: int64"
      ]
     },
     "execution_count": 29,
     "metadata": {},
     "output_type": "execute_result"
    }
   ],
   "source": [
    "posts_df[\"post_rank\"] = [get_post_rank(post_label,post_score) for post_label,post_score in zip(posts_df[\"post_label\"],posts_df[\"Score\"])]\n",
    "posts_df['post_rank'].value_counts()"
   ]
  },
  {
   "cell_type": "code",
   "execution_count": null,
   "metadata": {
    "collapsed": true
   },
   "outputs": [],
   "source": []
  }
 ],
 "metadata": {
  "kernelspec": {
   "display_name": "Python 3",
   "language": "python",
   "name": "python3"
  },
  "language_info": {
   "codemirror_mode": {
    "name": "ipython",
    "version": 3
   },
   "file_extension": ".py",
   "mimetype": "text/x-python",
   "name": "python",
   "nbconvert_exporter": "python",
   "pygments_lexer": "ipython3",
   "version": "3.6.1"
  }
 },
 "nbformat": 4,
 "nbformat_minor": 1
}

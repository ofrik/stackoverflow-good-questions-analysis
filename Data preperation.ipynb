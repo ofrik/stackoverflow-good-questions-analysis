{
 "cells": [
  {
   "cell_type": "code",
   "execution_count": 13,
   "metadata": {},
   "outputs": [],
   "source": [
    "import pandas as pd\n",
    "import numpy as np\n",
    "import datetime\n",
    "import re\n",
    "import glob\n",
    "import xml.etree.ElementTree as ET\n",
    "import matplotlib.pyplot as plt\n",
    "%matplotlib inline\n",
    "import seaborn as sns\n",
    "import re\n",
    "from tqdm import tqdm\n",
    "from nltk.tokenize import word_tokenize\n",
    "from nltk import pos_tag\n",
    "import nltk\n",
    "from collections import Counter\n",
    "from sklearn.feature_extraction.text import TfidfVectorizer\n",
    "from functools import reduce\n",
    "from sklearn.lda import LDA\n",
    "import networkx as nx"
   ]
  },
  {
   "cell_type": "markdown",
   "metadata": {},
   "source": [
    "# Updates 5/6/18\n",
    "* Removed outliers in the plots. For illustration purposes\n",
    "* Remove users with id = -1\n",
    "\n",
    "### Added the following features: \n",
    "\n",
    "1. number of posts per user\n",
    "2. number of answers per user\n",
    "3. user degree\n",
    "4. user betweeness\n",
    "5. is user part of a clique"
   ]
  },
  {
   "cell_type": "markdown",
   "metadata": {},
   "source": [
    "## Utils"
   ]
  },
  {
   "cell_type": "code",
   "execution_count": 34,
   "metadata": {},
   "outputs": [],
   "source": [
    "def cleanhtml(raw_html):\n",
    "    \"\"\"\n",
    "    this function gets an html text and removes all the garbage marks\n",
    "    \"\"\"\n",
    "    clean_code_r = re.compile('<code>.*?</code>')\n",
    "    cleanr = re.compile('<.*?>')\n",
    "    cleantext = re.sub(cleanr,'',re.sub(clean_code_r, '', raw_html))\n",
    "    cleantext = cleantext.replace('\\n',' ')\n",
    "    return cleantext\n",
    "\n",
    "def extract_code(raw_html):\n",
    "    code_text = \" \".join(re.findall(re.compile('<code>(.*?)</code>'),raw_html))\n",
    "    return code_text\n",
    "\n",
    "def clean_dataframe(df,int_columns,datetime_columns,text_columns):\n",
    "    \"\"\"\n",
    "    This function gets a dataframe as an input and does the following transformations:\n",
    "    1. type conversion - integers and datetime.\n",
    "    2. clean html tags from text\n",
    "    Important note: Unknown dates are converted to 1/1/1900\n",
    "    \"\"\"\n",
    "    for col in int_columns:\n",
    "        df[col]=df[col].fillna(0).astype(int)\n",
    "    for col in datetime_columns:\n",
    "        df[col]=[datetime.datetime.strptime(str(x),\"%Y-%m-%dT%H:%M:%S.%f\") if len(str(x))>4 else datetime.datetime(1900,1,1) for x in df[col]]\n",
    "    for col in text_columns:\n",
    "        df[\"%s_Code\"%col]=[extract_code(text) for text in df[col]]\n",
    "        df[col]=[cleanhtml(text) for text in df[col]]\n",
    "    print(len(df))\n",
    "    df = df[df['OwnerUserId']>0]\n",
    "    print(len(df))\n",
    "    return df\n",
    "def get_post_label(post_id,parent_id,accepted_answer_ids):\n",
    "    if post_id in accepted_answer_ids:\n",
    "        return 'Accepted answer'\n",
    "    elif parent_id > 0:\n",
    "        return 'Answer'\n",
    "    else:\n",
    "        return 'Question'"
   ]
  },
  {
   "cell_type": "markdown",
   "metadata": {},
   "source": [
    "## Read and clean posts data"
   ]
  },
  {
   "cell_type": "code",
   "execution_count": 35,
   "metadata": {},
   "outputs": [
    {
     "data": {
      "text/plain": [
       "Index(['AcceptedAnswerId', 'AnswerCount', 'Body', 'ClosedDate', 'CommentCount',\n",
       "       'CommunityOwnedDate', 'CreationDate', 'FavoriteCount', 'Id',\n",
       "       'LastActivityDate', 'LastEditDate', 'LastEditorDisplayName',\n",
       "       'LastEditorUserId', 'OwnerDisplayName', 'OwnerUserId', 'ParentId',\n",
       "       'PostTypeId', 'Score', 'Tags', 'Title', 'ViewCount'],\n",
       "      dtype='object')"
      ]
     },
     "execution_count": 35,
     "metadata": {},
     "output_type": "execute_result"
    }
   ],
   "source": [
    "tree = ET.parse('data/Posts.xml')\n",
    "root = tree.getroot()\n",
    "posts_df = pd.DataFrame([x.attrib for x in root.getchildren()])\n",
    "posts_df.columns"
   ]
  },
  {
   "cell_type": "code",
   "execution_count": 36,
   "metadata": {},
   "outputs": [
    {
     "name": "stdout",
     "output_type": "stream",
     "text": [
      "19213\n",
      "19068\n"
     ]
    },
    {
     "data": {
      "text/html": [
       "<div>\n",
       "<style>\n",
       "    .dataframe thead tr:only-child th {\n",
       "        text-align: right;\n",
       "    }\n",
       "\n",
       "    .dataframe thead th {\n",
       "        text-align: left;\n",
       "    }\n",
       "\n",
       "    .dataframe tbody tr th {\n",
       "        vertical-align: top;\n",
       "    }\n",
       "</style>\n",
       "<table border=\"1\" class=\"dataframe\">\n",
       "  <thead>\n",
       "    <tr style=\"text-align: right;\">\n",
       "      <th></th>\n",
       "      <th>AcceptedAnswerId</th>\n",
       "      <th>AnswerCount</th>\n",
       "      <th>Body</th>\n",
       "      <th>ClosedDate</th>\n",
       "      <th>CommentCount</th>\n",
       "      <th>CommunityOwnedDate</th>\n",
       "      <th>CreationDate</th>\n",
       "      <th>FavoriteCount</th>\n",
       "      <th>Id</th>\n",
       "      <th>LastActivityDate</th>\n",
       "      <th>...</th>\n",
       "      <th>LastEditorUserId</th>\n",
       "      <th>OwnerDisplayName</th>\n",
       "      <th>OwnerUserId</th>\n",
       "      <th>ParentId</th>\n",
       "      <th>PostTypeId</th>\n",
       "      <th>Score</th>\n",
       "      <th>Tags</th>\n",
       "      <th>Title</th>\n",
       "      <th>ViewCount</th>\n",
       "      <th>Body_Code</th>\n",
       "    </tr>\n",
       "  </thead>\n",
       "  <tbody>\n",
       "  </tbody>\n",
       "</table>\n",
       "<p>0 rows × 22 columns</p>\n",
       "</div>"
      ],
      "text/plain": [
       "Empty DataFrame\n",
       "Columns: [AcceptedAnswerId, AnswerCount, Body, ClosedDate, CommentCount, CommunityOwnedDate, CreationDate, FavoriteCount, Id, LastActivityDate, LastEditDate, LastEditorDisplayName, LastEditorUserId, OwnerDisplayName, OwnerUserId, ParentId, PostTypeId, Score, Tags, Title, ViewCount, Body_Code]\n",
       "Index: []\n",
       "\n",
       "[0 rows x 22 columns]"
      ]
     },
     "execution_count": 36,
     "metadata": {},
     "output_type": "execute_result"
    }
   ],
   "source": [
    "int_columns = int_columns=['AcceptedAnswerId','AnswerCount','CommentCount','FavoriteCount','Id','LastEditorUserId',\n",
    "             'OwnerUserId','ParentId','PostTypeId','Score','ViewCount']\n",
    "datetime_columns = ['ClosedDate','CommunityOwnedDate','CreationDate','LastActivityDate','LastEditDate']\n",
    "text_columns=['Body']\n",
    "\n",
    "\n",
    "posts_df = clean_dataframe(posts_df,int_columns,datetime_columns,text_columns)"
   ]
  },
  {
   "cell_type": "markdown",
   "metadata": {},
   "source": [
    "## Assign labels\n",
    "* If we want to add categories like 'high ranked'\\'low ranked' we can just edit the get_label function"
   ]
  },
  {
   "cell_type": "code",
   "execution_count": 45,
   "metadata": {},
   "outputs": [
    {
     "data": {
      "text/plain": [
       "Question           8776\n",
       "Answer             7300\n",
       "Accepted answer    2992\n",
       "Name: post_label, dtype: int64"
      ]
     },
     "execution_count": 45,
     "metadata": {},
     "output_type": "execute_result"
    }
   ],
   "source": [
    "accepted_answer_ids = list(set(posts_df['AcceptedAnswerId']))\n",
    "posts_df['post_label'] = [get_post_label(post_id,parent_id,accepted_answer_ids) for post_id,parent_id in zip(posts_df['Id'],posts_df['ParentId'])]\n",
    "posts_df['post_label'].value_counts()"
   ]
  },
  {
   "cell_type": "markdown",
   "metadata": {},
   "source": [
    "## Questions score distribution"
   ]
  },
  {
   "cell_type": "code",
   "execution_count": 47,
   "metadata": {
    "collapsed": true
   },
   "outputs": [],
   "source": [
    "def show_distribution(df):\n",
    "    n, bins, patches = plt.hist(df)\n",
    "    plt.show()"
   ]
  },
  {
   "cell_type": "code",
   "execution_count": 48,
   "metadata": {
    "collapsed": true
   },
   "outputs": [],
   "source": [
    "questions_scores = sorted(posts_df[posts_df[\"post_label\"]==\"Question\"][\"Score\"])"
   ]
  },
  {
   "cell_type": "code",
   "execution_count": 49,
   "metadata": {},
   "outputs": [
    {
     "data": {
      "text/plain": [
       "<matplotlib.axes._subplots.AxesSubplot at 0x23fc9387b00>"
      ]
     },
     "execution_count": 49,
     "metadata": {},
     "output_type": "execute_result"
    },
    {
     "data": {
      "image/png": "[encoded data removed]",
      "text/plain": [
       "<matplotlib.figure.Figure at 0x23fc93870b8>"
      ]
     },
     "metadata": {},
     "output_type": "display_data"
    }
   ],
   "source": [
    "# Removed outliers for visualization purposes\n",
    "sns.distplot(questions_scores[:int(len(questions_scores)*0.99)])"
   ]
  },
  {
   "cell_type": "code",
   "execution_count": 50,
   "metadata": {},
   "outputs": [
    {
     "data": {
      "text/plain": [
       "5.0"
      ]
     },
     "execution_count": 50,
     "metadata": {},
     "output_type": "execute_result"
    }
   ],
   "source": [
    "high_ranked_question_threshold = np.percentile(questions_scores, 90)\n",
    "high_ranked_question_threshold"
   ]
  },
  {
   "cell_type": "code",
   "execution_count": 51,
   "metadata": {},
   "outputs": [
    {
     "data": {
      "text/plain": [
       "0.0"
      ]
     },
     "execution_count": 51,
     "metadata": {},
     "output_type": "execute_result"
    }
   ],
   "source": [
    "low_ranked_question_threshold = np.percentile(questions_scores, 10)\n",
    "low_ranked_question_threshold"
   ]
  },
  {
   "cell_type": "markdown",
   "metadata": {},
   "source": [
    "## Answers score distribution"
   ]
  },
  {
   "cell_type": "code",
   "execution_count": 52,
   "metadata": {
    "collapsed": true
   },
   "outputs": [],
   "source": [
    "answers_scores = sorted(posts_df[(posts_df[\"post_label\"]==\"Answer\")|(posts_df[\"post_label\"]==\"Accepted answer\")][\"Score\"])"
   ]
  },
  {
   "cell_type": "code",
   "execution_count": 53,
   "metadata": {},
   "outputs": [
    {
     "data": {
      "text/plain": [
       "<matplotlib.axes._subplots.AxesSubplot at 0x23fc9387080>"
      ]
     },
     "execution_count": 53,
     "metadata": {},
     "output_type": "execute_result"
    },
    {
     "data": {
      "image/png": "[encoded data removed]",
      "text/plain": [
       "<matplotlib.figure.Figure at 0x23fcd37bf28>"
      ]
     },
     "metadata": {},
     "output_type": "display_data"
    }
   ],
   "source": [
    "sns.distplot(answers_scores[:int(len(answers_scores)*0.95)])"
   ]
  },
  {
   "cell_type": "code",
   "execution_count": 54,
   "metadata": {},
   "outputs": [
    {
     "data": {
      "text/plain": [
       "5.0"
      ]
     },
     "execution_count": 54,
     "metadata": {},
     "output_type": "execute_result"
    }
   ],
   "source": [
    "high_ranked_answers_threshold = np.percentile(answers_scores, 90)\n",
    "high_ranked_answers_threshold"
   ]
  },
  {
   "cell_type": "code",
   "execution_count": 55,
   "metadata": {},
   "outputs": [
    {
     "data": {
      "text/plain": [
       "0.0"
      ]
     },
     "execution_count": 55,
     "metadata": {},
     "output_type": "execute_result"
    }
   ],
   "source": [
    "low_ranked_answers_threshold = np.percentile(answers_scores, 10)\n",
    "low_ranked_answers_threshold"
   ]
  },
  {
   "cell_type": "markdown",
   "metadata": {},
   "source": [
    "## Label the posts rank"
   ]
  },
  {
   "cell_type": "code",
   "execution_count": 56,
   "metadata": {
    "collapsed": true
   },
   "outputs": [],
   "source": [
    "def get_post_rank(post_label,post_score):\n",
    "    if post_label==\"Question\":\n",
    "        if post_score>=high_ranked_question_threshold:\n",
    "            return \"High\"\n",
    "        elif post_score<=low_ranked_question_threshold:\n",
    "            return \"Low\"\n",
    "        else:\n",
    "            return \"Normal\"\n",
    "    else:\n",
    "        if post_score>=high_ranked_answers_threshold:\n",
    "            return \"High\"\n",
    "        elif post_score<=low_ranked_answers_threshold:\n",
    "            return \"Low\"\n",
    "        else:\n",
    "            return \"Normal\""
   ]
  },
  {
   "cell_type": "code",
   "execution_count": 57,
   "metadata": {
    "scrolled": true
   },
   "outputs": [
    {
     "data": {
      "text/plain": [
       "Normal    11477\n",
       "Low        5334\n",
       "High       2257\n",
       "Name: post_rank, dtype: int64"
      ]
     },
     "execution_count": 57,
     "metadata": {},
     "output_type": "execute_result"
    }
   ],
   "source": [
    "posts_df[\"post_rank\"] = [get_post_rank(post_label,post_score) for post_label,post_score in zip(posts_df[\"post_label\"],posts_df[\"Score\"])]\n",
    "posts_df['post_rank'].value_counts()"
   ]
  },
  {
   "cell_type": "markdown",
   "metadata": {},
   "source": [
    "## Stractural feature extraction"
   ]
  },
  {
   "cell_type": "code",
   "execution_count": 58,
   "metadata": {
    "collapsed": true
   },
   "outputs": [],
   "source": [
    "pos_tags = [\"CC\",\"CD\",\"DT\",\"EX\",\"FW\",\"IN\",\"JJ\",\"JJR\",\"JJS\",\"LS\",\"MD\",\"NN\",\"NNS\",\"NNP\",\"NNPS\",\"PDT\",\"POS\",\"PRP\",\"PRP$\",\"RB\",\"RBR\",\"RBS\",\"RP\",\"SYM\",\"TO\",\"UH\",\"VB\",\"VBD\",\"VBG\",\"VBN\",\"VBP\",\"VBZ\",\"WDT\",\"WP\",\"WP$\",\"WRB\"]"
   ]
  },
  {
   "cell_type": "code",
   "execution_count": 59,
   "metadata": {
    "collapsed": true
   },
   "outputs": [],
   "source": [
    "question_feature_names = [\"text_length\",\"number_of_links\",\"code_percentage\"]\n",
    "for tag in pos_tags:\n",
    "    question_feature_names.append(\"%s_count\"%tag)"
   ]
  },
  {
   "cell_type": "code",
   "execution_count": 60,
   "metadata": {
    "collapsed": true
   },
   "outputs": [],
   "source": [
    "def extract_stractural_features(df):\n",
    "    df[\"text_length\"] = df[\"Body\"].map(lambda x: len(x)) + df[\"Body_Code\"].map(lambda x: len(x))\n",
    "    df[\"number_of_links\"] = df[\"Body\"].map(lambda x: x.count(\"http://\"))\n",
    "    df[\"code_percentage\"] = df[\"Body_Code\"].map(lambda x: len(x)) / df[\"text_length\"]\n",
    "    pos_counts = posts_df[\"Body\"].map(lambda body: Counter([x[1] for x in pos_tag(word_tokenize(body))]))\n",
    "    for tag in pos_tags:\n",
    "        df[\"%s_count\"%tag] = pos_counts.map(lambda x:x[tag])     "
   ]
  },
  {
   "cell_type": "code",
   "execution_count": null,
   "metadata": {},
   "outputs": [],
   "source": [
    "extract_stractural_features(posts_df)"
   ]
  },
  {
   "cell_type": "code",
   "execution_count": null,
   "metadata": {
    "collapsed": true
   },
   "outputs": [],
   "source": [
    "posts_df"
   ]
  },
  {
   "cell_type": "code",
   "execution_count": 62,
   "metadata": {
    "collapsed": true
   },
   "outputs": [],
   "source": [
    "def extract_answer_only_stractural_features(posts_df):\n",
    "    question_answers_join = pd.merge(posts_df, posts_df,  how='left', left_on=['Id'], right_on = ['ParentId'])\n",
    "    posts_df[\"text_length_ratio\"] = question_answers_join.apply(lambda x: x[\"text_length_x\"]/x[\"text_length_y\"],axis=1)\n",
    "    posts_df[\"code_length_ratio\"] = question_answers_join.apply(lambda x: 0 if ((x[\"Body_Code_y\"] is np.nan) or (len(x[\"Body_Code_x\"])==0) or (len(x[\"Body_Code_y\"]))==0) else len(x[\"Body_Code_x\"])/len(x[\"Body_Code_y\"]),axis=1)\n",
    "    posts_df[\"response_time_difference\"] = question_answers_join.apply(lambda x: x[\"CreationDate_y\"]-x[\"CreationDate_x\"],axis=1)"
   ]
  },
  {
   "cell_type": "code",
   "execution_count": 63,
   "metadata": {
    "collapsed": true
   },
   "outputs": [],
   "source": [
    "extract_answer_only_stractural_features(posts_df)"
   ]
  },
  {
   "cell_type": "markdown",
   "metadata": {},
   "source": [
    "## Complicated features"
   ]
  },
  {
   "cell_type": "code",
   "execution_count": 64,
   "metadata": {
    "collapsed": true
   },
   "outputs": [],
   "source": [
    "vectorizer = TfidfVectorizer(sublinear_tf=True,\n",
    "                                 stop_words='english',analyzer='word')\n",
    "tf = vectorizer.fit_transform(posts_df[\"Body\"])\n",
    "posts_df[\"tf_idf\"] = tf"
   ]
  },
  {
   "cell_type": "code",
   "execution_count": 65,
   "metadata": {
    "scrolled": true
   },
   "outputs": [
    {
     "name": "stdout",
     "output_type": "stream",
     "text": [
      "[('machine-learning', 2854), ('python', 1253), ('neural-network', 1168), ('deep-learning', 882), ('classification', 867), ('r', 711), ('data-mining', 613), ('scikit-learn', 505), ('nlp', 486), ('clustering', 443), ('predictive-modeling', 436), ('dataset', 413), ('keras', 378), ('time-series', 353), ('tensorflow', 344), ('regression', 339), ('text-mining', 316), ('statistics', 305), ('bigdata', 285), ('feature-selection', 236), ('visualization', 235), ('convnet', 217), ('random-forest', 214), ('pandas', 210), ('algorithms', 208), ('svm', 201), ('data-cleaning', 196), ('logistic-regression', 188), ('decision-trees', 181), ('data', 178), ('recommender-system', 165), ('xgboost', 157), ('linear-regression', 156), ('rnn', 152), ('apache-spark', 150), ('feature-extraction', 149), ('image-classification', 147), ('k-means', 126), ('cross-validation', 121), ('reinforcement-learning', 113), ('optimization', 110), ('multiclass-classification', 110), ('feature-engineering', 110), ('gradient-descent', 109), ('word2vec', 108), ('categorical-data', 106), ('unsupervised-learning', 104), ('correlation', 98), ('lstm', 97), ('computer-vision', 96), ('preprocessing', 96), ('apache-hadoop', 94), ('supervised-learning', 94), ('prediction', 94), ('training', 92), ('dimensionality-reduction', 91), ('similarity', 90), ('beginner', 89), ('word-embeddings', 84), ('backpropagation', 81), ('graphs', 79), ('cnn', 79), ('orange', 78), ('probability', 78), ('pca', 76), ('unbalanced-classes', 72), ('matlab', 68), ('anomaly-detection', 68), ('evaluation', 66), ('performance', 65), ('loss-function', 65), ('multilabel-classification', 63), ('convolution', 63), ('social-network-analysis', 60), ('accuracy', 60), ('naive-bayes-classifier', 60), ('model-selection', 60), ('image-recognition', 60), ('autoencoder', 58), ('topic-model', 57), ('sentiment-analysis', 56), ('information-retrieval', 55), ('ensemble-modeling', 53), ('lda', 52), ('text', 51), ('databases', 50), ('sampling', 49), ('forecast', 49), ('nltk', 48), ('outlier', 44), ('tools', 43), ('pyspark', 43), ('overfitting', 43), ('theano', 42), ('missing-data', 41), ('feature-scaling', 40), ('distance', 40), ('reference-request', 39), ('normalization', 39), ('terminology', 38), ('hyperparameter', 37), ('gan', 37), ('gpu', 36), ('plotting', 35), ('sql', 34), ('career', 34), ('java', 34), ('q-learning', 34), ('gensim', 34), ('ranking', 33), ('regularization', 33), ('binary', 32), ('gbm', 31), ('object-recognition', 31), ('cost-function', 29), ('scala', 28), ('markov-process', 28), ('education', 27), ('confusion-matrix', 27), ('online-learning', 27), ('association-rules', 27), ('parameter-estimation', 27), ('distribution', 27), ('search', 26), ('ab-test', 26), ('named-entity-recognition', 26), ('feature-construction', 26), ('audio-recognition', 26), ('clusters', 25), ('csv', 25), ('sequence', 25), ('jupyter', 25), ('distributed', 24), ('kaggle', 24), ('efficiency', 23), ('scraping', 23), ('azure-ml', 23), ('tsne', 23), ('bayesian', 23), ('map-reduce', 22), ('encoding', 22), ('weka', 22), ('bayesian-networks', 22), ('inception', 22), ('class-imbalance', 22), ('dataframe', 22), ('scalability', 21), ('software-recommendation', 21), ('descriptive-statistics', 21), ('sequential-pattern-mining', 21)]\n"
     ]
    }
   ],
   "source": [
    "number_of_topics = 150\n",
    "posts_df[\"Tags\"] = posts_df[\"Tags\"].map(lambda x: [] if (x is np.nan) else x.replace(\"<\",\"\").replace(\">\",\",\").strip(\",\").split(\",\"))\n",
    "tags = reduce(lambda x,y: x+y,posts_df[\"Tags\"])\n",
    "tags_freq = Counter(tags)\n",
    "print(tags_freq.most_common(number_of_topics))"
   ]
  },
  {
   "cell_type": "code",
   "execution_count": 66,
   "metadata": {
    "collapsed": true
   },
   "outputs": [],
   "source": [
    "topics_indexes = {x[0]:index for index,x in enumerate(tags_freq.most_common(number_of_topics))}"
   ]
  },
  {
   "cell_type": "code",
   "execution_count": null,
   "metadata": {
    "collapsed": true
   },
   "outputs": [],
   "source": [
    "def get_topic_labels(x):\n",
    "    labels = np.zeros(len(topics_indexes))\n",
    "    indexes = []\n",
    "    for topic in x:\n",
    "        if topic in topics_indexes:\n",
    "            indexes.append(topics_indexes[topic])\n",
    "    labels[indexes] = 1\n",
    "    return labels\n",
    "posts_df[\"topics_labels\"] = posts_df[\"Tags\"].map(get_topic_labels)"
   ]
  },
  {
   "cell_type": "code",
   "execution_count": null,
   "metadata": {
    "collapsed": true
   },
   "outputs": [],
   "source": [
    "#lda = LDA(n_components=number_of_topics).fit(posts_df[\"Body\"],posts_df[\"topics_labels\"])"
   ]
  },
  {
   "cell_type": "markdown",
   "metadata": {},
   "source": [
    "# Create user related features"
   ]
  },
  {
   "cell_type": "code",
   "execution_count": 67,
   "metadata": {},
   "outputs": [
    {
     "data": {
      "text/plain": [
       "<matplotlib.axes._subplots.AxesSubplot at 0x23fc94a69e8>"
      ]
     },
     "execution_count": 67,
     "metadata": {},
     "output_type": "execute_result"
    },
    {
     "data": {
      "image/png": "[encoded data removed]",
      "text/plain": [
       "<matplotlib.figure.Figure at 0x23fcd258240>"
      ]
     },
     "metadata": {},
     "output_type": "display_data"
    }
   ],
   "source": [
    "post_to_user_map = {k:v for k,v in zip(posts_df['Id'],posts_df['OwnerUserId'])}\n",
    "user_to_num_of_posts_map = Counter(list(post_to_user_map.values()))\n",
    "post_counts=sorted(list(user_to_num_of_posts_map.values()))\n",
    "sns.distplot(post_counts[:int(len(post_counts)*0.99)])"
   ]
  },
  {
   "cell_type": "markdown",
   "metadata": {},
   "source": [
    "## Calculate number of posts per user (prior to the given post)"
   ]
  },
  {
   "cell_type": "code",
   "execution_count": 68,
   "metadata": {
    "collapsed": true
   },
   "outputs": [],
   "source": [
    "user_to_number_of_posts_map={}\n",
    "user_number_of_past_posts=[]\n",
    "for index,row in posts_df.sort_values('CreationDate').iterrows():\n",
    "    user_id = row['OwnerUserId']\n",
    "    if user_id not in user_to_number_of_posts_map:\n",
    "        user_to_number_of_posts_map[user_id] = 1\n",
    "        user_number_of_past_posts.append(0)\n",
    "    else:\n",
    "        user_number_of_past_posts.append(user_to_num_of_posts_map[user_id])\n",
    "        user_to_num_of_posts_map[user_id] += 1\n",
    "posts_df['number_of_past_user_posts'] = user_number_of_past_posts"
   ]
  },
  {
   "cell_type": "markdown",
   "metadata": {},
   "source": [
    "## Calculate number of accepted answers per user (prior to the given post)"
   ]
  },
  {
   "cell_type": "code",
   "execution_count": null,
   "metadata": {},
   "outputs": [],
   "source": [
    "user_to_number_of_accepted_answers_map={}\n",
    "l=[]\n",
    "for index,row in posts_df.sort_values('CreationDate').iterrows():\n",
    "    user_id = row['OwnerUserId']\n",
    "    if user_id not in user_to_number_of_accepted_answers_map:\n",
    "        l.append(0)\n",
    "    else:\n",
    "        l.append(user_to_number_of_accepted_answers_map[user_id])\n",
    "    if row['post_label'] == 'Accepted answer':\n",
    "        if user_id not in user_to_number_of_accepted_answers_map:\n",
    "            user_to_number_of_accepted_answers_map[user_id] = 0\n",
    "        user_to_number_of_accepted_answers_map[user_id]+=1\n",
    "posts_df['number_of_past_accepted_answers'] = l"
   ]
  },
  {
   "cell_type": "markdown",
   "metadata": {},
   "source": [
    "## Calculate user degrees\n",
    "* Degrees are number of users that the given user has communicated with"
   ]
  },
  {
   "cell_type": "code",
   "execution_count": null,
   "metadata": {},
   "outputs": [],
   "source": [
    "g = nx.Graph()\n",
    "for index,row in posts_df[posts_df['post_label']!='Question'].iterrows():\n",
    "    try:\n",
    "        g.add_edge(row['OwnerUserId'],post_to_user_map[row['ParentId']])\n",
    "    except:\n",
    "        pass\n",
    "\n",
    "nodes_degrees={}\n",
    "for n in g.nodes():\n",
    "    nodes_degrees[n] = g.degree(n)\n",
    "degrees=[]\n",
    "for user_id in posts_df['OwnerUserId']:\n",
    "    try:\n",
    "        degrees.append(nodes_degrees[user_id])\n",
    "    except:\n",
    "        degrees.append(0)\n",
    "posts_df['user_degree']=degrees"
   ]
  },
  {
   "cell_type": "markdown",
   "metadata": {},
   "source": [
    "## Calculate node betweeness"
   ]
  },
  {
   "cell_type": "code",
   "execution_count": 109,
   "metadata": {},
   "outputs": [],
   "source": [
    "graph_betweeness = nx.betweenness_centrality(g)"
   ]
  },
  {
   "cell_type": "code",
   "execution_count": 112,
   "metadata": {},
   "outputs": [],
   "source": [
    "betweeness=[]\n",
    "for user_id in posts_df['OwnerUserId']:\n",
    "    try:\n",
    "        betweeness.append(graph_betweeness[user_id])\n",
    "    except:\n",
    "        betweeness.append(0)\n",
    "posts_df['betweeness'] = betweeness"
   ]
  },
  {
   "cell_type": "markdown",
   "metadata": {},
   "source": [
    "## find whether a user is a member of a certain clique"
   ]
  },
  {
   "cell_type": "code",
   "execution_count": 125,
   "metadata": {},
   "outputs": [],
   "source": [
    "clique_members=[]\n",
    "for clique in nx.find_cliques(g):\n",
    "    if len(clique)>2:\n",
    "        clique_members.extend(clique)\n",
    "clique_members=list(set(clique_members))\n",
    "is_clique_member=[]\n",
    "for u_id in posts_df['OwnerUserId']:\n",
    "    if u_id in clique_members:\n",
    "        is_clique_member.append(1)\n",
    "    else:\n",
    "        is_clique_member.append(0)\n",
    "posts_df['is_clique_member'] = is_clique_member"
   ]
  }
 ],
 "metadata": {
  "kernelspec": {
   "display_name": "Python 3",
   "language": "python",
   "name": "python3"
  },
  "language_info": {
   "codemirror_mode": {
    "name": "ipython",
    "version": 3
   },
   "file_extension": ".py",
   "mimetype": "text/x-python",
   "name": "python",
   "nbconvert_exporter": "python",
   "pygments_lexer": "ipython3",
   "version": "3.6.1"
  }
 },
 "nbformat": 4,
 "nbformat_minor": 1
}
